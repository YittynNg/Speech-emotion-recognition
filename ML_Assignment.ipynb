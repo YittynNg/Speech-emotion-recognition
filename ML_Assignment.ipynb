{
  "nbformat": 4,
  "nbformat_minor": 0,
  "metadata": {
    "colab": {
      "name": "ML Assignment.ipynb",
      "provenance": []
    },
    "kernelspec": {
      "name": "python3",
      "display_name": "Python 3"
    },
    "accelerator": "GPU"
  },
  "cells": [
    {
      "cell_type": "markdown",
      "metadata": {
        "id": "4GjTcXZoaChh",
        "colab_type": "text"
      },
      "source": [
        "**Installation**"
      ]
    },
    {
      "cell_type": "code",
      "metadata": {
        "id": "oiSUhRDZXixn",
        "colab_type": "code",
        "colab": {}
      },
      "source": [
        "!pip install librosa numpy sklearn pyaudio"
      ],
      "execution_count": 0,
      "outputs": []
    },
    {
      "cell_type": "code",
      "metadata": {
        "id": "_Ram320CXkiL",
        "colab_type": "code",
        "colab": {}
      },
      "source": [
        "import os\n",
        "import glob"
      ],
      "execution_count": 0,
      "outputs": []
    },
    {
      "cell_type": "code",
      "metadata": {
        "id": "XGA5XfvdXklg",
        "colab_type": "code",
        "colab": {}
      },
      "source": [
        "root='/content/drive/My Drive/speech-emotion-recognition'"
      ],
      "execution_count": 0,
      "outputs": []
    },
    {
      "cell_type": "code",
      "metadata": {
        "id": "XpvZVhtWXktH",
        "colab_type": "code",
        "colab": {}
      },
      "source": [
        "os.chdir(root)"
      ],
      "execution_count": 0,
      "outputs": []
    },
    {
      "cell_type": "code",
      "metadata": {
        "id": "C8zZpB8cXkwQ",
        "colab_type": "code",
        "colab": {
          "base_uri": "https://localhost:8080/",
          "height": 51
        },
        "outputId": "42dbbd0f-5623-4c4a-84e4-313e06ccbed7"
      },
      "source": [
        "import librosa     \n",
        "import os, glob, pickle\n",
        "import numpy as np\n",
        "import pandas as pd\n",
        "from collections import Counter\n",
        "from sklearn.model_selection import train_test_split\n",
        "from sklearn.preprocessing import OneHotEncoder\n",
        "from sklearn.metrics import accuracy_score \n",
        "from sklearn.metrics import confusion_matrix\n",
        "from sklearn.metrics import f1_score\n",
        "from sklearn.metrics import plot_confusion_matrix\n",
        "import matplotlib.pyplot as plt\n",
        "import seaborn as sn"
      ],
      "execution_count": 5,
      "outputs": [
        {
          "output_type": "stream",
          "text": [
            "/usr/local/lib/python3.6/dist-packages/statsmodels/tools/_testing.py:19: FutureWarning: pandas.util.testing is deprecated. Use the functions in the public API at pandas.testing instead.\n",
            "  import pandas.util.testing as tm\n"
          ],
          "name": "stderr"
        }
      ]
    },
    {
      "cell_type": "markdown",
      "metadata": {
        "id": "85OeQFqeZ_gj",
        "colab_type": "text"
      },
      "source": [
        "**Functions**"
      ]
    },
    {
      "cell_type": "code",
      "metadata": {
        "id": "u8biCjEQXk11",
        "colab_type": "code",
        "colab": {}
      },
      "source": [
        "def noise(data, noise_factor):\n",
        "    noise = np.random.randn(len(data))   #0-1 numpy array\n",
        "    augmented_data = data + noise_factor * noise\n",
        "    # Cast back to same data type\n",
        "    augmented_data = augmented_data.astype(type(data[0]))\n",
        "    return augmented_data\n",
        "\n",
        "def shift(data, sampling_rate, shift_max, shift_direction):\n",
        "    shift = np.random.randint(sampling_rate * shift_max)\n",
        "    if shift_direction == 'right':\n",
        "        shift = -shift\n",
        "    elif self.shift_direction == 'both':\n",
        "        direction = np.random.randint(0, 2)\n",
        "        if direction == 1:\n",
        "            shift = -shift\n",
        "    augmented_data = np.roll(data, shift)\n",
        "    # Set to silence for heading/ tailing\n",
        "    if shift > 0:\n",
        "        augmented_data[:shift] = 0\n",
        "    else:\n",
        "        augmented_data[shift:] = 0\n",
        "    return augmented_data"
      ],
      "execution_count": 0,
      "outputs": []
    },
    {
      "cell_type": "code",
      "metadata": {
        "id": "10Z_BJP1Xkqt",
        "colab_type": "code",
        "colab": {}
      },
      "source": [
        "def extract_feature(data, sr, mfcc, chroma, mel):\n",
        "    if chroma:                          \n",
        "        stft=np.abs(librosa.stft(data))  \n",
        "\n",
        "    result=np.array([])\n",
        "    if mfcc:                          \n",
        "        mfccs=np.mean(librosa.feature.mfcc(y=data, sr=sr, n_mfcc=40).T, axis=0)\n",
        "        result=np.hstack((result, mfccs))\n",
        "    if chroma:                          \n",
        "        chroma=np.mean(librosa.feature.chroma_stft(S=stft, sr=sr).T,axis=0)\n",
        "        result=np.hstack((result, chroma))\n",
        "    if mel:                             \n",
        "        mel=np.mean(librosa.feature.melspectrogram(data, sr=sr).T,axis=0)\n",
        "        result=np.hstack((result, mel))\n",
        "    return result \n",
        "\n",
        "emotions={\n",
        "  '01':'neutral',\n",
        "  '02':'calm',\n",
        "  '03':'happy',\n",
        "  '04':'sad',\n",
        "  '05':'angry',\n",
        "  '06':'fearful',\n",
        "  '07':'disgust',\n",
        "  '08':'surprised'\n",
        "}\n",
        "\n",
        "def load_and_augment(test_size=0.2,random_state=0):\n",
        "  x,y=[],[]\n",
        "  for file in glob.glob(root+\"/*/*\"):  \n",
        "    data, sr = librosa.load(file)\n",
        "\n",
        "    feature=extract_feature(data, sr, mfcc=True, chroma=True, mel=True)\n",
        "    x.append(feature)\n",
        "\n",
        "    file_name=os.path.basename(file)\n",
        "    emotion=emotions[file_name.split(\"-\")[2]]  \n",
        "    y.append(emotion)\n",
        "\n",
        "    noise_data=noise(data,0.001)\n",
        "    noise_feature=extract_feature(noise_data, sr, mfcc=True, chroma=True, mel=True)\n",
        "    x.append(noise_feature)\n",
        "    y.append(emotion)\n",
        "\n",
        "    shift_data=shift(data,sr,0.25,'right')\n",
        "    shift_feature=extract_feature(shift_data, sr, mfcc=True, chroma=True, mel=True)\n",
        "    x.append(shift_feature)\n",
        "    y.append(emotion)\n",
        "    \n",
        "  return train_test_split(np.array(x), y, test_size=test_size, random_state=random_state)"
      ],
      "execution_count": 0,
      "outputs": []
    },
    {
      "cell_type": "markdown",
      "metadata": {
        "id": "_HbB0EQ2aJT5",
        "colab_type": "text"
      },
      "source": [
        "**Load and preprocess data**"
      ]
    },
    {
      "cell_type": "code",
      "metadata": {
        "id": "kr0ZOSpQXkoR",
        "colab_type": "code",
        "colab": {}
      },
      "source": [
        "x_train,x_test,y_train,y_test=load_and_augment(test_size=0.2,random_state=9)"
      ],
      "execution_count": 0,
      "outputs": []
    },
    {
      "cell_type": "code",
      "metadata": {
        "id": "42eHG5bgYJiu",
        "colab_type": "code",
        "colab": {}
      },
      "source": [
        "y_train=np.asarray(y_train)\n",
        "y_test=np.asarray(y_test)\n",
        "y_train=y_train.reshape(len(y_train),1)\n",
        "y_test=y_test.reshape(len(y_test),1)\n",
        "onehotencoder=OneHotEncoder()\n",
        "y_train=onehotencoder.fit_transform(y_train).toarray()  \n",
        "y_test=onehotencoder.fit_transform(y_test).toarray()"
      ],
      "execution_count": 0,
      "outputs": []
    },
    {
      "cell_type": "markdown",
      "metadata": {
        "id": "l3BprxnzaOUu",
        "colab_type": "text"
      },
      "source": [
        "**Build model**"
      ]
    },
    {
      "cell_type": "code",
      "metadata": {
        "id": "mjBE-sTEYMMx",
        "colab_type": "code",
        "colab": {}
      },
      "source": [
        "from keras.utils import to_categorical\n",
        "from keras.models import Sequential\n",
        "from keras.layers import Dense, Activation, Dropout\n",
        "from keras import optimizers\n",
        "from keras import regularizers\n",
        "import matplotlib.pyplot as plot "
      ],
      "execution_count": 0,
      "outputs": []
    },
    {
      "cell_type": "code",
      "metadata": {
        "id": "iw6YiXccYMSw",
        "colab_type": "code",
        "colab": {}
      },
      "source": [
        "mlp_model=Sequential()\n",
        "\n",
        "mlp_model.add(Dense(units=128,activation='relu',input_shape=(180,),\n",
        "                    kernel_regularizer=regularizers.l2(0.001)\n",
        "                    ))\n",
        "\n",
        "mlp_model.add(Dense(units=128,activation='relu',\n",
        "                    kernel_regularizer=regularizers.l2(0.001)\n",
        "                    ))\n",
        "\n",
        "mlp_model.add(Dense(units=128,activation='relu',\n",
        "                    kernel_regularizer=regularizers.l2(0.001)\n",
        "                    ))\n",
        "\n",
        "mlp_model.add(Dropout(0.5))\n",
        "\n",
        "mlp_model.add(Dense(units=128,activation='relu',\n",
        "                    # kernel_regularizer=regularizers.l2(0.001)\n",
        "                    ))\n",
        "\n",
        "mlp_model.add(Dense(units=128,activation='relu',\n",
        "                    # kernel_regularizer=regularizers.l2(0.001)\n",
        "                    ))\n",
        "\n",
        "mlp_model.add(Dropout(0.5))\n",
        "\n",
        "mlp_model.add(Dense(units=8,activation=\"softmax\"))\n",
        "mlp_model.compile(optimizer='adam',\n",
        "                  # optimizer=optimizers.Adam(lr=0.001),\n",
        "                  loss=\"categorical_crossentropy\",\n",
        "                  metrics=['accuracy'])"
      ],
      "execution_count": 0,
      "outputs": []
    },
    {
      "cell_type": "code",
      "metadata": {
        "id": "wbcMeVsHYMVm",
        "colab_type": "code",
        "colab": {
          "base_uri": "https://localhost:8080/",
          "height": 1000
        },
        "outputId": "0f3d3526-40b5-4ca6-eda1-8aedcd2ef1c3"
      },
      "source": [
        "parameter=mlp_model.fit(x_train,y_train,\n",
        "                    validation_data=(x_test,y_test),\n",
        "                    epochs=400,\n",
        "                    batch_size=30)"
      ],
      "execution_count": 0,
      "outputs": [
        {
          "output_type": "stream",
          "text": [
            "Train on 3456 samples, validate on 864 samples\n",
            "Epoch 1/400\n",
            "3456/3456 [==============================] - 3s 765us/step - loss: 4.3664 - accuracy: 0.1444 - val_loss: 2.2308 - val_accuracy: 0.1620\n",
            "Epoch 2/400\n",
            "3456/3456 [==============================] - 1s 233us/step - loss: 2.2044 - accuracy: 0.1672 - val_loss: 2.1263 - val_accuracy: 0.2002\n",
            "Epoch 3/400\n",
            "3456/3456 [==============================] - 1s 233us/step - loss: 2.1547 - accuracy: 0.1861 - val_loss: 2.1160 - val_accuracy: 0.1852\n",
            "Epoch 4/400\n",
            "3456/3456 [==============================] - 1s 227us/step - loss: 2.1209 - accuracy: 0.1898 - val_loss: 2.1309 - val_accuracy: 0.1667\n",
            "Epoch 5/400\n",
            "3456/3456 [==============================] - 1s 230us/step - loss: 2.1077 - accuracy: 0.1869 - val_loss: 2.1045 - val_accuracy: 0.1713\n",
            "Epoch 6/400\n",
            "3456/3456 [==============================] - 1s 233us/step - loss: 2.0908 - accuracy: 0.1962 - val_loss: 2.0253 - val_accuracy: 0.2060\n",
            "Epoch 7/400\n",
            "3456/3456 [==============================] - 1s 237us/step - loss: 2.0964 - accuracy: 0.1910 - val_loss: 2.0500 - val_accuracy: 0.1991\n",
            "Epoch 8/400\n",
            "3456/3456 [==============================] - 1s 236us/step - loss: 2.0543 - accuracy: 0.2130 - val_loss: 1.9770 - val_accuracy: 0.2292\n",
            "Epoch 9/400\n",
            "3456/3456 [==============================] - 1s 231us/step - loss: 2.0363 - accuracy: 0.2202 - val_loss: 1.9755 - val_accuracy: 0.2280\n",
            "Epoch 10/400\n",
            "3456/3456 [==============================] - 1s 234us/step - loss: 2.0223 - accuracy: 0.2286 - val_loss: 1.9572 - val_accuracy: 0.2581\n",
            "Epoch 11/400\n",
            "3456/3456 [==============================] - 1s 229us/step - loss: 2.0062 - accuracy: 0.2323 - val_loss: 1.9323 - val_accuracy: 0.2882\n",
            "Epoch 12/400\n",
            "3456/3456 [==============================] - 1s 230us/step - loss: 2.0008 - accuracy: 0.2300 - val_loss: 1.9417 - val_accuracy: 0.2731\n",
            "Epoch 13/400\n",
            "3456/3456 [==============================] - 1s 236us/step - loss: 1.9842 - accuracy: 0.2419 - val_loss: 1.9121 - val_accuracy: 0.2836\n",
            "Epoch 14/400\n",
            "3456/3456 [==============================] - 1s 228us/step - loss: 1.9546 - accuracy: 0.2509 - val_loss: 1.9127 - val_accuracy: 0.2894\n",
            "Epoch 15/400\n",
            "3456/3456 [==============================] - 1s 228us/step - loss: 1.9729 - accuracy: 0.2459 - val_loss: 1.9209 - val_accuracy: 0.2662\n",
            "Epoch 16/400\n",
            "3456/3456 [==============================] - 1s 228us/step - loss: 1.9344 - accuracy: 0.2688 - val_loss: 1.8806 - val_accuracy: 0.3194\n",
            "Epoch 17/400\n",
            "3456/3456 [==============================] - 1s 240us/step - loss: 1.9197 - accuracy: 0.2758 - val_loss: 1.8928 - val_accuracy: 0.2998\n",
            "Epoch 18/400\n",
            "3456/3456 [==============================] - 1s 231us/step - loss: 1.9150 - accuracy: 0.2853 - val_loss: 1.9762 - val_accuracy: 0.2396\n",
            "Epoch 19/400\n",
            "3456/3456 [==============================] - 1s 235us/step - loss: 1.9097 - accuracy: 0.2818 - val_loss: 1.8409 - val_accuracy: 0.3426\n",
            "Epoch 20/400\n",
            "3456/3456 [==============================] - 1s 237us/step - loss: 1.8794 - accuracy: 0.2969 - val_loss: 1.8148 - val_accuracy: 0.3299\n",
            "Epoch 21/400\n",
            "3456/3456 [==============================] - 1s 230us/step - loss: 1.8493 - accuracy: 0.3157 - val_loss: 1.7678 - val_accuracy: 0.3750\n",
            "Epoch 22/400\n",
            "3456/3456 [==============================] - 1s 232us/step - loss: 1.8540 - accuracy: 0.3154 - val_loss: 1.7844 - val_accuracy: 0.3507\n",
            "Epoch 23/400\n",
            "3456/3456 [==============================] - 1s 233us/step - loss: 1.8372 - accuracy: 0.3229 - val_loss: 1.7667 - val_accuracy: 0.3299\n",
            "Epoch 24/400\n",
            "3456/3456 [==============================] - 1s 235us/step - loss: 1.8174 - accuracy: 0.3290 - val_loss: 1.7993 - val_accuracy: 0.3391\n",
            "Epoch 25/400\n",
            "3456/3456 [==============================] - 1s 233us/step - loss: 1.8333 - accuracy: 0.3180 - val_loss: 1.8044 - val_accuracy: 0.3368\n",
            "Epoch 26/400\n",
            "3456/3456 [==============================] - 1s 230us/step - loss: 1.8035 - accuracy: 0.3397 - val_loss: 1.7545 - val_accuracy: 0.3576\n",
            "Epoch 27/400\n",
            "3456/3456 [==============================] - 1s 235us/step - loss: 1.7767 - accuracy: 0.3458 - val_loss: 1.8017 - val_accuracy: 0.3634\n",
            "Epoch 28/400\n",
            "3456/3456 [==============================] - 1s 225us/step - loss: 1.7735 - accuracy: 0.3536 - val_loss: 1.6971 - val_accuracy: 0.3796\n",
            "Epoch 29/400\n",
            "3456/3456 [==============================] - 1s 234us/step - loss: 1.7280 - accuracy: 0.3819 - val_loss: 1.7077 - val_accuracy: 0.3877\n",
            "Epoch 30/400\n",
            "3456/3456 [==============================] - 1s 234us/step - loss: 1.7207 - accuracy: 0.3805 - val_loss: 1.7597 - val_accuracy: 0.3380\n",
            "Epoch 31/400\n",
            "3456/3456 [==============================] - 1s 232us/step - loss: 1.7387 - accuracy: 0.3727 - val_loss: 1.7004 - val_accuracy: 0.3970\n",
            "Epoch 32/400\n",
            "3456/3456 [==============================] - 1s 233us/step - loss: 1.6800 - accuracy: 0.3979 - val_loss: 1.6265 - val_accuracy: 0.4005\n",
            "Epoch 33/400\n",
            "3456/3456 [==============================] - 1s 239us/step - loss: 1.6935 - accuracy: 0.4103 - val_loss: 1.7214 - val_accuracy: 0.3773\n",
            "Epoch 34/400\n",
            "3456/3456 [==============================] - 1s 238us/step - loss: 1.6649 - accuracy: 0.4144 - val_loss: 1.6202 - val_accuracy: 0.4155\n",
            "Epoch 35/400\n",
            "3456/3456 [==============================] - 1s 235us/step - loss: 1.6436 - accuracy: 0.4144 - val_loss: 1.6266 - val_accuracy: 0.4144\n",
            "Epoch 36/400\n",
            "3456/3456 [==============================] - 1s 230us/step - loss: 1.6343 - accuracy: 0.4251 - val_loss: 1.5754 - val_accuracy: 0.4560\n",
            "Epoch 37/400\n",
            "3456/3456 [==============================] - 1s 234us/step - loss: 1.6383 - accuracy: 0.4248 - val_loss: 1.5983 - val_accuracy: 0.4444\n",
            "Epoch 38/400\n",
            "3456/3456 [==============================] - 1s 231us/step - loss: 1.6051 - accuracy: 0.4326 - val_loss: 1.6034 - val_accuracy: 0.4352\n",
            "Epoch 39/400\n",
            "3456/3456 [==============================] - 1s 235us/step - loss: 1.5705 - accuracy: 0.4479 - val_loss: 1.7722 - val_accuracy: 0.3808\n",
            "Epoch 40/400\n",
            "3456/3456 [==============================] - 1s 233us/step - loss: 1.6157 - accuracy: 0.4404 - val_loss: 1.6301 - val_accuracy: 0.4248\n",
            "Epoch 41/400\n",
            "3456/3456 [==============================] - 1s 231us/step - loss: 1.5838 - accuracy: 0.4505 - val_loss: 1.5318 - val_accuracy: 0.4722\n",
            "Epoch 42/400\n",
            "3456/3456 [==============================] - 1s 231us/step - loss: 1.5312 - accuracy: 0.4714 - val_loss: 1.4745 - val_accuracy: 0.4664\n",
            "Epoch 43/400\n",
            "3456/3456 [==============================] - 1s 230us/step - loss: 1.5215 - accuracy: 0.4742 - val_loss: 1.4772 - val_accuracy: 0.4931\n",
            "Epoch 44/400\n",
            "3456/3456 [==============================] - 1s 236us/step - loss: 1.4979 - accuracy: 0.4933 - val_loss: 1.4804 - val_accuracy: 0.5000\n",
            "Epoch 45/400\n",
            " 300/3456 [=>............................] - ETA: 0s - loss: 1.4794 - accuracy: 0.5033"
          ],
          "name": "stdout"
        }
      ]
    },
    {
      "cell_type": "code",
      "metadata": {
        "id": "zQwWaOmCYMYb",
        "colab_type": "code",
        "colab": {}
      },
      "source": [
        "mlp_model.summary()"
      ],
      "execution_count": 0,
      "outputs": []
    },
    {
      "cell_type": "code",
      "metadata": {
        "id": "iGT91hkCYY4n",
        "colab_type": "code",
        "colab": {}
      },
      "source": [
        "mlp_model.evaluate(x_train,y_train)\n",
        "mlp_model.evaluate(x_test,y_test)"
      ],
      "execution_count": 0,
      "outputs": []
    },
    {
      "cell_type": "code",
      "metadata": {
        "id": "-clPpuX3Ybo6",
        "colab_type": "code",
        "colab": {}
      },
      "source": [
        "parameter.history.keys()"
      ],
      "execution_count": 0,
      "outputs": []
    },
    {
      "cell_type": "code",
      "metadata": {
        "id": "9SSNuF4ZYeFu",
        "colab_type": "code",
        "colab": {}
      },
      "source": [
        "plot.plot(parameter.history['val_loss'],label='val_loss')\n",
        "plot.plot(parameter.history['loss'],label='loss')\n",
        "plot.legend()"
      ],
      "execution_count": 0,
      "outputs": []
    },
    {
      "cell_type": "code",
      "metadata": {
        "id": "Gt9p07VpYfp0",
        "colab_type": "code",
        "colab": {}
      },
      "source": [
        "plot.plot(parameter.history['val_accuracy'],label='val_acc')\n",
        "plot.plot(parameter.history['accuracy'],label='acc')\n",
        "plot.legend()"
      ],
      "execution_count": 0,
      "outputs": []
    },
    {
      "cell_type": "code",
      "metadata": {
        "id": "K7-tU_WrYoje",
        "colab_type": "code",
        "colab": {}
      },
      "source": [
        "y_pred = mlp_model.predict_classes(x_test)  "
      ],
      "execution_count": 0,
      "outputs": []
    },
    {
      "cell_type": "code",
      "metadata": {
        "id": "vqskDNfxYq_G",
        "colab_type": "code",
        "colab": {}
      },
      "source": [
        "y_final = np.argmax(y_test,axis=1) "
      ],
      "execution_count": 0,
      "outputs": []
    },
    {
      "cell_type": "code",
      "metadata": {
        "id": "eHr4fir4YsUN",
        "colab_type": "code",
        "colab": {}
      },
      "source": [
        "confusion_matrix(y_true = y_final ,y_pred = y_pred)"
      ],
      "execution_count": 0,
      "outputs": []
    },
    {
      "cell_type": "code",
      "metadata": {
        "id": "OS1JhlttsOm7",
        "colab_type": "code",
        "colab": {}
      },
      "source": [
        "df_sn = pd.DataFrame(confusion_matrix(y_true = y_final ,y_pred = y_pred))"
      ],
      "execution_count": 0,
      "outputs": []
    },
    {
      "cell_type": "code",
      "metadata": {
        "id": "0XUfcfFEsx8_",
        "colab_type": "code",
        "colab": {}
      },
      "source": [
        "emotion_label = list(emotions.values())"
      ],
      "execution_count": 0,
      "outputs": []
    },
    {
      "cell_type": "code",
      "metadata": {
        "id": "dhoRAwbVqvKq",
        "colab_type": "code",
        "outputId": "be143016-05eb-4a27-8d9d-af1abbaa5b08",
        "colab": {
          "base_uri": "https://localhost:8080/",
          "height": 446
        }
      },
      "source": [
        "plt.figure(figsize = (10,7))\n",
        "sn.heatmap(df_sn, annot=True,fmt=\"d\", xticklabels=emotion_label, yticklabels=emotion_label)"
      ],
      "execution_count": 0,
      "outputs": [
        {
          "output_type": "execute_result",
          "data": {
            "text/plain": [
              "<matplotlib.axes._subplots.AxesSubplot at 0x7f0118048dd8>"
            ]
          },
          "metadata": {
            "tags": []
          },
          "execution_count": 118
        },
        {
          "output_type": "display_data",
          "data": {
            "image/png": "[encoded data removed]",
            "text/plain": [
              "<Figure size 720x504 with 2 Axes>"
            ]
          },
          "metadata": {
            "tags": [],
            "needs_background": "light"
          }
        }
      ]
    },
    {
      "cell_type": "code",
      "metadata": {
        "id": "pSvg8JiEx_UA",
        "colab_type": "code",
        "outputId": "c85b7f0b-2097-48bc-8c01-ef39adc22e7f",
        "colab": {
          "base_uri": "https://localhost:8080/",
          "height": 34
        }
      },
      "source": [
        "f1_score(y_final,y_pred,average='weighted')"
      ],
      "execution_count": 0,
      "outputs": [
        {
          "output_type": "execute_result",
          "data": {
            "text/plain": [
              "0.8597502927058267"
            ]
          },
          "metadata": {
            "tags": []
          },
          "execution_count": 119
        }
      ]
    }
  ]
}